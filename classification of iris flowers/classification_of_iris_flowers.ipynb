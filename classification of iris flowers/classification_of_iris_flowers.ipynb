{
  "nbformat": 4,
  "nbformat_minor": 0,
  "metadata": {
    "colab": {
      "provenance": []
    },
    "kernelspec": {
      "name": "python3",
      "display_name": "Python 3"
    },
    "language_info": {
      "name": "python"
    }
  },
  "cells": [
    {
      "cell_type": "markdown",
      "source": [
        "#  Performance Comparison on Iris Flower Species Classification\n",
        "\n",
        "\n",
        "\n",
        "\n",
        " * Implemented Perceptron Learning Rule and Gradient Descent Delta Rule from\n",
        "scratch to classify Iris flower species, using an 80/20 train\n",
        "test split for evaluation. Compared model accuracy across different activation functions and learning rates, analyzing how each algorithm\n",
        " performs and adapts to the dataset.\n",
        "\n",
        " * Experimented with hyperparameter tuning to minimize loss and improve prediction accuracy, documenting results and insights for both\n",
        " models."
      ],
      "metadata": {
        "id": "MXuF2IxIHY2w"
      }
    },
    {
      "cell_type": "code",
      "execution_count": 1,
      "metadata": {
        "id": "WKjYWQqBHLKj"
      },
      "outputs": [],
      "source": [
        "import numpy as np\n",
        "from sklearn.datasets import load_iris\n",
        "from sklearn.model_selection import train_test_split\n",
        "import matplotlib.pyplot as plt\n",
        "\n",
        "# Task 1: Implement Perceptron Learning Rule and Gradient Descent Delta Rule\n",
        "class Perceptron:\n",
        "    def __init__(self, learning_rate=0.01, epochs=100):\n",
        "        self.learning_rate = learning_rate\n",
        "        self.epochs = epochs\n",
        "\n",
        "    def fit(self, X, y):\n",
        "        self.weights = np.zeros(1 + X.shape[1])\n",
        "        self.errors_ = []\n",
        "\n",
        "        for _ in range(self.epochs):\n",
        "            errors = 0\n",
        "            for xi, target in zip(X, y):\n",
        "                update = self.learning_rate * (target - self.predict(xi))\n",
        "                self.weights[1:] += update * xi\n",
        "                self.weights[0] += update\n",
        "                errors += int(update != 0.0)\n",
        "            self.errors_.append(errors)\n",
        "        return self\n",
        "\n",
        "    def net_input(self, X):\n",
        "        return np.dot(X, self.weights[1:]) + self.weights[0]\n",
        "\n",
        "    def predict(self, X):\n",
        "        return np.where(self.net_input(X) >= 0.0, 1, -1)\n",
        "\n",
        "class GradientDescent:\n",
        "    def __init__(self, learning_rate=0.01, epochs=100):\n",
        "        self.learning_rate = learning_rate\n",
        "        self.epochs = epochs\n",
        "\n",
        "    def sigmoid(self, z):\n",
        "        return 1 / (1 + np.exp(-z))\n",
        "\n",
        "    def sigmoid_derivative(self, z):\n",
        "        return z * (1 - z)\n",
        "\n",
        "    def fit(self, X, y):\n",
        "        self.weights = 2 * np.random.random((X.shape[1], 1)) - 1\n",
        "        self.bias = 2 * np.random.random(1) - 1\n",
        "        self.errors_ = []\n",
        "\n",
        "        for _ in range(self.epochs):\n",
        "            output = self.sigmoid(np.dot(X, self.weights) + self.bias)\n",
        "            errors = y.reshape(-1, 1) - output\n",
        "            self.weights += self.learning_rate * np.dot(X.T, errors * self.sigmoid_derivative(output))\n",
        "            self.bias += self.learning_rate * np.sum(errors * self.sigmoid_derivative(output))\n",
        "            self.errors_.append(np.mean(errors))\n",
        "        return self\n",
        "\n",
        "    def predict(self, X):\n",
        "        return np.where(self.sigmoid(np.dot(X, self.weights) + self.bias) >= 0.5, 1, 0)\n"
      ]
    },
    {
      "cell_type": "code",
      "source": [
        "\n",
        "# Task 2: Load the Iris dataset\n",
        "iris = load_iris()\n",
        "X = iris.data\n",
        "y = iris.target"
      ],
      "metadata": {
        "id": "i_Xkg3vKIFlo"
      },
      "execution_count": 2,
      "outputs": []
    },
    {
      "cell_type": "code",
      "source": [
        "# Task 3: Split data into training and testing sets\n",
        "X_train, X_test, y_train, y_test = train_test_split(X, y, test_size=0.2, random_state=42)"
      ],
      "metadata": {
        "id": "6sXXU1jgIP_h"
      },
      "execution_count": 3,
      "outputs": []
    },
    {
      "cell_type": "code",
      "source": [
        "# Task 4: Instantiate and train the models\n",
        "perceptron = Perceptron()\n",
        "perceptron.fit(X_train, y_train)\n",
        "\n",
        "gradient_descent = GradientDescent()\n",
        "gradient_descent.fit(X_train, y_train)"
      ],
      "metadata": {
        "colab": {
          "base_uri": "https://localhost:8080/"
        },
        "id": "I9qzRdZCIUQf",
        "outputId": "b1ecff92-e304-40d7-cc7c-117c733e7578"
      },
      "execution_count": 4,
      "outputs": [
        {
          "output_type": "execute_result",
          "data": {
            "text/plain": [
              "<__main__.GradientDescent at 0x7f0e5fefb390>"
            ]
          },
          "metadata": {},
          "execution_count": 4
        }
      ]
    },
    {
      "cell_type": "code",
      "source": [
        "# Task 5: Evaluate models on test set\n",
        "perceptron_accuracy = np.mean(perceptron.predict(X_test) == y_test)\n",
        "gradient_descent_accuracy = np.mean(gradient_descent.predict(X_test) == y_test)"
      ],
      "metadata": {
        "id": "ggJqyVyyIXnI"
      },
      "execution_count": 5,
      "outputs": []
    },
    {
      "cell_type": "code",
      "source": [
        "# Task 6: Plot the errors over epochs\n",
        "plt.plot(range(1, len(perceptron.errors_)+1), perceptron.errors_, marker='o', label='Perceptron')\n",
        "plt.plot(range(1, len(gradient_descent.errors_)+1), gradient_descent.errors_, marker='x', label='Gradient Descent')\n",
        "plt.xlabel('Epochs')\n",
        "plt.ylabel('Number of misclassifications')\n",
        "plt.title('Errors over Epochs')\n",
        "plt.legend()\n",
        "plt.show()"
      ],
      "metadata": {
        "colab": {
          "base_uri": "https://localhost:8080/",
          "height": 472
        },
        "id": "q5pckuAuIao4",
        "outputId": "ce3398b6-dc2f-4c00-e17c-f50ad4ac3fc0"
      },
      "execution_count": 6,
      "outputs": [
        {
          "output_type": "display_data",
          "data": {
            "text/plain": [
              "<Figure size 640x480 with 1 Axes>"
            ],
            "image/png": "[encoded data removed]"
          },
          "metadata": {}
        }
      ]
    },
    {
      "cell_type": "code",
      "source": [
        "# Output the results\n",
        "print(\"\\nTask 1: Perceptron Learning Rule and Gradient Descent Delta Rule Implemented\")\n",
        "print(\"Perceptron Weights:\", perceptron.weights)\n",
        "print(\"Gradient Descent Weights:\", gradient_descent.weights)\n",
        "print(\"\\nTask 2: Iris dataset loaded\")\n",
        "print(\"Features (first 5 rows):\\n\", X[:5])\n",
        "print(\"Targets (first 5 elements):\", y[:5])\n",
        "print(\"\\nTask 3: Data split into training and testing sets (80/20)\")\n",
        "print(\"X_train shape:\", X_train.shape)\n",
        "print(\"X_test shape:\", X_test.shape)\n",
        "print(\"y_train shape:\", y_train.shape)\n",
        "print(\"y_test shape:\", y_test.shape)\n",
        "print(\"\\nTask 4: Models trained\")\n",
        "print(\"Perceptron Errors over Epochs:\", perceptron.errors_)\n",
        "print(\"Gradient Descent Errors over Epochs:\", gradient_descent.errors_)\n",
        "print(\"\\nTask 5: Model accuracies on test set:\")\n",
        "print(\"Perceptron Accuracy:\", perceptron_accuracy)\n",
        "print(\"Gradient Descent Accuracy:\", gradient_descent_accuracy)\n",
        "print(\"\\nTask 6: Errors over epochs plotted at the beginning\")"
      ],
      "metadata": {
        "colab": {
          "base_uri": "https://localhost:8080/"
        },
        "id": "fsMAG367IeNY",
        "outputId": "1a32004e-88e4-4d41-9769-0c6b44b96f06"
      },
      "execution_count": 7,
      "outputs": [
        {
          "output_type": "stream",
          "name": "stdout",
          "text": [
            "\n",
            "Task 1: Perceptron Learning Rule and Gradient Descent Delta Rule Implemented\n",
            "Perceptron Weights: [ -0.92   55.616 -22.118 157.46   68.234]\n",
            "Gradient Descent Weights: [[-0.50299643]\n",
            " [-0.98948955]\n",
            " [ 1.86340934]\n",
            " [ 1.15483043]]\n",
            "\n",
            "Task 2: Iris dataset loaded\n",
            "Features (first 5 rows):\n",
            " [[5.1 3.5 1.4 0.2]\n",
            " [4.9 3.  1.4 0.2]\n",
            " [4.7 3.2 1.3 0.2]\n",
            " [4.6 3.1 1.5 0.2]\n",
            " [5.  3.6 1.4 0.2]]\n",
            "Targets (first 5 elements): [0 0 0 0 0]\n",
            "\n",
            "Task 3: Data split into training and testing sets (80/20)\n",
            "X_train shape: (120, 4)\n",
            "X_test shape: (30, 4)\n",
            "y_train shape: (120,)\n",
            "y_test shape: (30,)\n",
            "\n",
            "Task 4: Models trained\n",
            "Perceptron Errors over Epochs: [80, 79, 79, 79, 79, 79, 79, 79, 79, 79, 79, 79, 79, 79, 79, 79, 79, 79, 79, 79, 79, 79, 79, 79, 79, 79, 79, 79, 79, 79, 79, 79, 79, 79, 79, 79, 79, 79, 79, 79, 79, 79, 79, 79, 79, 79, 79, 79, 79, 79, 79, 79, 79, 79, 79, 79, 79, 79, 79, 79, 79, 79, 79, 79, 79, 79, 79, 79, 79, 79, 79, 79, 79, 79, 79, 79, 79, 79, 79, 79, 79, 79, 79, 79, 79, 79, 79, 79, 79, 79, 79, 79, 79, 79, 79, 79, 79, 79, 79, 79]\n",
            "Gradient Descent Errors over Epochs: [np.float64(0.9179550153740633), np.float64(0.08660093939349506), np.float64(0.2824581810528277), np.float64(0.2951291607390957), np.float64(0.29125797150914656), np.float64(0.2946181167223983), np.float64(0.29504892688186896), np.float64(0.2962307798192897), np.float64(0.29711387028509145), np.float64(0.29795837937984143), np.float64(0.2987304208048992), np.float64(0.2994440077976961), np.float64(0.3001056784278983), np.float64(0.3007213496407252), np.float64(0.3012960297806378), np.float64(0.30183400178109365), np.float64(0.3023389521777198), np.float64(0.3028140732604308), np.float64(0.30326214470344576), np.float64(0.3036855993595011), np.float64(0.304086576714955), np.float64(0.30446696664296924), np.float64(0.3048284454637796), np.float64(0.3051725058569263), np.float64(0.3055004818238363), np.float64(0.305813569638026), np.float64(0.3061128455216165), np.float64(0.30639928063456634), np.float64(0.3066737538453118), np.float64(0.3069370626598244), np.float64(0.30718993261419975), np.float64(0.3074330253791132), np.float64(0.30766694577937603), np.float64(0.30789224789576985), np.float64(0.3081094403873505), np.float64(0.30831899114899), np.float64(0.3085213313998923), np.float64(0.3087168592832822), np.float64(0.308905943044722), np.float64(0.3090889238460125), np.float64(0.30926611826294703), np.float64(0.3094378205079681), np.float64(0.3096043044127578), np.float64(0.3097658252007546), np.float64(0.30992262107534885), np.float64(0.3100749146459462), np.float64(0.3102229142110628), np.float64(0.31036681491505275), np.float64(0.3105067997928914), np.float64(0.3106430407155683), np.float64(0.31077569924705256), np.float64(0.31090492742242354), np.float64(0.3110308684555801), np.float64(0.3111536573839216), np.float64(0.31127342165651906), np.float64(0.31139028167152544), np.float64(0.31150435126791176), np.float64(0.3116157381760407), np.float64(0.3117245444310779), np.float64(0.31183086675280464), np.float64(0.3119347968950064), np.float64(0.3120364219672681), np.float64(0.3121358247317134), np.float64(0.3122330838769545), np.float64(0.31232827427129006), np.float64(0.31242146719697944), np.float64(0.3125127305672401), np.float64(0.3126021291274499), np.float64(0.31268972464189415), np.float64(0.31277557606726597), np.float64(0.31285973971401354), np.float64(0.31294226939652786), np.float64(0.3130232165730675), np.float64(0.31310263047623993), np.float64(0.3131805582347802), np.float64(0.31325704498730506), np.float64(0.31333213398865745), np.float64(0.3134058667094049), np.float64(0.3134782829290062), np.float64(0.31354942082311427), np.float64(0.31361931704544815), np.float64(0.31368800680462655), np.float64(0.3137555239363247), np.float64(0.3138219009710877), np.float64(0.3138871691981046), np.float64(0.31395135872522384), np.float64(0.31401449853546964), np.float64(0.31407661654029617), np.float64(0.3141377396298003), np.float64(0.3141978937200952), np.float64(0.31425710379803273), np.float64(0.3143153939634474), np.float64(0.314372787469082), np.float64(0.3144293067583453), np.float64(0.3144849735010364), np.float64(0.31453980862716685), np.float64(0.3145938323589963), np.float64(0.31464706424139305), np.float64(0.31469952317062266), np.float64(0.31475122742165773)]\n",
            "\n",
            "Task 5: Model accuracies on test set:\n",
            "Perceptron Accuracy: 0.3\n",
            "Gradient Descent Accuracy: 0.3111111111111111\n",
            "\n",
            "Task 6: Errors over epochs plotted at the beginning\n"
          ]
        }
      ]
    }
  ]
}