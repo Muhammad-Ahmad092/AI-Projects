{
 "cells": [
  {
   "cell_type": "code",
   "execution_count": 15,
   "id": "b6500ca7-68b4-4f1f-95b5-7b51161558e7",
   "metadata": {},
   "outputs": [],
   "source": [
    "puzzle = [\n",
    "    [5, 3, None, None, 7, None, None, None, None],\n",
    "    [6, None, None, 1, 9, 5, None, None, None],\n",
    "    [None, 9, 8, None, None, None, None, 6, None],\n",
    "    [8, None, None, None, 6, None, None, None, 3],\n",
    "    [4, None, None, 8, None, 3, None, None, 1],\n",
    "    [7, None, None, None, 2, None, None, None, 6],\n",
    "    [None, 6, None, None, None, None, 2, 8, None],\n",
    "    [None, None, None, 4, 1, 9, None, None, 5],\n",
    "    [None, None, None, None, 8, None, None, 7, 9]\n",
    "]\n",
    "\n",
    "    "
   ]
  },
  {
   "cell_type": "code",
   "execution_count": 16,
   "id": "71937e1b-0b29-428c-a0ea-9df27f550f32",
   "metadata": {},
   "outputs": [
    {
     "name": "stdout",
     "output_type": "stream",
     "text": [
      "The Puzzle that is requried for Solution is : \n",
      "\n",
      "[5, 3, None, None, 7, None, None, None, None]\n",
      "[6, None, None, 1, 9, 5, None, None, None]\n",
      "[None, 9, 8, None, None, None, None, 6, None]\n",
      "[8, None, None, None, 6, None, None, None, 3]\n",
      "[4, None, None, 8, None, 3, None, None, 1]\n",
      "[7, None, None, None, 2, None, None, None, 6]\n",
      "[None, 6, None, None, None, None, 2, 8, None]\n",
      "[None, None, None, 4, 1, 9, None, None, 5]\n",
      "[None, None, None, None, 8, None, None, 7, 9]\n",
      "\n",
      "\n",
      "Solution by Using CSP... constraint satisfaction.\n",
      "\n",
      "[5, 3, 4, 6, 7, 8, 9, 1, 2]\n",
      "[6, 7, 2, 1, 9, 5, 3, 4, 8]\n",
      "[1, 9, 8, 3, 4, 2, 5, 6, 7]\n",
      "[8, 5, 9, 7, 6, 1, 4, 2, 3]\n",
      "[4, 2, 6, 8, 5, 3, 7, 9, 1]\n",
      "[7, 1, 3, 9, 2, 4, 8, 5, 6]\n",
      "[9, 6, 1, 5, 3, 7, 2, 8, 4]\n",
      "[2, 8, 7, 4, 1, 9, 6, 3, 5]\n",
      "[3, 4, 5, 2, 8, 6, 1, 7, 9]\n"
     ]
    }
   ],
   "source": [
    "print(\"The Puzzle that is requried for Solution is : \\n\")\n",
    "for row in puzzle:\n",
    "        print(row)\n",
    "\n",
    "print(\"\\n\")\n",
    "    \n",
    "def is_valid_move(row, col, num):\n",
    "    # Check row, column, and box constraints\n",
    "    for i in range(9):\n",
    "        if puzzle[row][i] == num or puzzle[i][col] == num:\n",
    "            return False\n",
    "\n",
    "    box_row, box_col = 3 * (row // 3), 3 * (col // 3)\n",
    "    for i in range(box_row, box_row + 3):\n",
    "        for j in range(box_col, box_col + 3):\n",
    "            if puzzle[i][j] == num:\n",
    "                return False\n",
    "\n",
    "    return True\n",
    "# Using constraint satisfaction.\n",
    "def solve_sudoku():\n",
    "    for row in range(9):\n",
    "        for col in range(9):\n",
    "            if puzzle[row][col] is None:\n",
    "                for num in range(1, 10):\n",
    "                    if is_valid_move(row, col, num):\n",
    "                        puzzle[row][col] = num\n",
    "                        if solve_sudoku():\n",
    "                            return True\n",
    "                        puzzle[row][col] = None\n",
    "                return False\n",
    "    return True\n",
    "\n",
    "\n",
    "print(\"Solution by Using CSP... constraint satisfaction.\\n\")\n",
    "if solve_sudoku():\n",
    "    for row in puzzle:\n",
    "        print(row)\n",
    "else:\n",
    "    print(\"No solution exists.\")\n"
   ]
  },
  {
   "cell_type": "code",
   "execution_count": null,
   "id": "bd26d549-97ff-4415-a3ee-a705c7fd2b30",
   "metadata": {},
   "outputs": [],
   "source": []
  }
 ],
 "metadata": {
  "kernelspec": {
   "display_name": "Python 3 (ipykernel)",
   "language": "python",
   "name": "python3"
  },
  "language_info": {
   "codemirror_mode": {
    "name": "ipython",
    "version": 3
   },
   "file_extension": ".py",
   "mimetype": "text/x-python",
   "name": "python",
   "nbconvert_exporter": "python",
   "pygments_lexer": "ipython3",
   "version": "3.12.1"
  }
 },
 "nbformat": 4,
 "nbformat_minor": 5
}
